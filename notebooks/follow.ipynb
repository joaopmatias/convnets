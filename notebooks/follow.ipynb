{
 "cells": [
  {
   "cell_type": "code",
   "execution_count": 7,
   "metadata": {},
   "outputs": [
    {
     "name": "stdout",
     "output_type": "stream",
     "text": [
      "--2019-09-27 02:49:40--  https://drive.google.com/uc?export=download&confirm=1zUeulfV-VR7zANbZlVoOapJAI8aGkYOX\n",
      "Resolving drive.google.com (drive.google.com)... 172.217.16.238, 2a00:1450:4003:80b::200e\n",
      "Connecting to drive.google.com (drive.google.com)|172.217.16.238|:443... connected.\n",
      "HTTP request sent, awaiting response... 400 Bad Request\n",
      "2019-09-27 02:49:41 ERROR 400: Bad Request.\n",
      "\n"
     ]
    }
   ],
   "source": [
    "!wget --no-check-certificate \"https://drive.google.com/uc?export=download&confirm=1zUeulfV-VR7zANbZlVoOapJAI8aGkYOX\""
   ]
  },
  {
   "cell_type": "code",
   "execution_count": null,
   "metadata": {},
   "outputs": [],
   "source": []
  }
 ],
 "metadata": {
  "kernelspec": {
   "display_name": "Python 3",
   "language": "python",
   "name": "python3"
  },
  "language_info": {
   "codemirror_mode": {
    "name": "ipython",
    "version": 3
   },
   "file_extension": ".py",
   "mimetype": "text/x-python",
   "name": "python",
   "nbconvert_exporter": "python",
   "pygments_lexer": "ipython3",
   "version": "3.7.4"
  }
 },
 "nbformat": 4,
 "nbformat_minor": 2
}
